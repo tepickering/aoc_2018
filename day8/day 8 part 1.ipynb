{
 "cells": [
  {
   "cell_type": "code",
   "execution_count": 6,
   "metadata": {},
   "outputs": [
    {
     "data": {
      "text/plain": [
       "13909"
      ]
     },
     "execution_count": 6,
     "metadata": {},
     "output_type": "execute_result"
    }
   ],
   "source": [
    "with open(\"test\", 'r') as fp:\n",
    "    data = [int(i) for i in fp.readline().strip().split()]\n",
    "len(data)"
   ]
  },
  {
   "cell_type": "code",
   "execution_count": null,
   "metadata": {},
   "outputs": [],
   "source": [
    "node_starts = [0]\n",
    "meta_sum = 0\n",
    "ends = [len(data)]\n",
    "while True:\n",
    "    nchild = 0\n",
    "    ln = len(node_starts)\n",
    "    new_starts = []\n",
    "    new_ends = []\n",
    "    for start, end in zip(node_starts, ends):\n",
    "        nchild += data[start]\n",
    "        nmeta = data[start+1]\n",
    "        meta_sum += sum(data[end-nmeta:end])\n",
    "        width = (end-nmeta) - (start+2)\n",
    "        for i in range(nchild):\n",
    "            s = int((start + 2) + (i/nchild) * width)\n",
    "            new_starts.append(s)\n",
    "            e = int((end - nmeta) - (i/nchild) * width)\n",
    "            new_ends.append(e)\n",
    "    node_starts = new_starts\n",
    "    new_ends.reverse()\n",
    "    ends = new_ends\n",
    "    del new_ends\n",
    "    del new_starts\n",
    "    print(len(ends))\n",
    "    if nchild == 0:\n",
    "        break\n",
    "print(meta_sum)"
   ]
  },
  {
   "cell_type": "code",
   "execution_count": 7,
   "metadata": {},
   "outputs": [],
   "source": [
    "def recurse_data(d):\n",
    "    nchild = d.pop(0)\n",
    "    nmeta = d.pop(0)\n",
    "    return sum(recurse_data(d) for _ in range(nchild)) + sum(d.pop(0) for _ in range(nmeta))"
   ]
  },
  {
   "cell_type": "code",
   "execution_count": 8,
   "metadata": {},
   "outputs": [
    {
     "data": {
      "text/plain": [
       "35911"
      ]
     },
     "execution_count": 8,
     "metadata": {},
     "output_type": "execute_result"
    }
   ],
   "source": [
    "recurse_data(data)"
   ]
  },
  {
   "cell_type": "code",
   "execution_count": null,
   "metadata": {},
   "outputs": [],
   "source": []
  }
 ],
 "metadata": {
  "kernelspec": {
   "display_name": "Python 3",
   "language": "python",
   "name": "python3"
  },
  "language_info": {
   "codemirror_mode": {
    "name": "ipython",
    "version": 3
   },
   "file_extension": ".py",
   "mimetype": "text/x-python",
   "name": "python",
   "nbconvert_exporter": "python",
   "pygments_lexer": "ipython3",
   "version": "3.7.1"
  }
 },
 "nbformat": 4,
 "nbformat_minor": 2
}
