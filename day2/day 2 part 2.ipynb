{
 "cells": [
  {
   "cell_type": "code",
   "execution_count": 55,
   "metadata": {},
   "outputs": [],
   "source": [
    "f = open(\"input.txt\", \"r\")\n",
    "strings = readlines(f)\n",
    "close(f)"
   ]
  },
  {
   "cell_type": "code",
   "execution_count": 56,
   "metadata": {},
   "outputs": [
    {
     "data": {
      "text/plain": [
       "string_sub (generic function with 1 method)"
      ]
     },
     "execution_count": 56,
     "metadata": {},
     "output_type": "execute_result"
    }
   ],
   "source": [
    "# map the - operator across a pair of strings to get an array of differences between each character.\n",
    "# identical characters result in 0 which is what we want to make the mask to find differences.\n",
    "function string_sub(s1, s2)\n",
    "    map(-, s1, s2)\n",
    "end"
   ]
  },
  {
   "cell_type": "code",
   "execution_count": 57,
   "metadata": {},
   "outputs": [
    {
     "name": "stdout",
     "output_type": "stream",
     "text": [
      "lujnogabetpmsydyfcovzixaw\n"
     ]
    }
   ],
   "source": [
    "for i in eachindex(strings)\n",
    "    s1 = strings[i]\n",
    "    s1_arr = collect(s1)  # need string to operate on and an array for applying logical masks\n",
    "    for s2 in strings[i+1:end]\n",
    "        diff = string_sub(s1, s2)\n",
    "        mask = map(!(iszero), diff)\n",
    "        if length(s1_arr[mask]) == 1\n",
    "            zmask = map(iszero, diff)\n",
    "            answer = join(s1_arr[zmask], \"\")\n",
    "            println(answer)\n",
    "            break\n",
    "        end\n",
    "    end  \n",
    "end"
   ]
  },
  {
   "cell_type": "code",
   "execution_count": null,
   "metadata": {},
   "outputs": [],
   "source": []
  }
 ],
 "metadata": {
  "kernelspec": {
   "display_name": "Julia 1.0.2",
   "language": "julia",
   "name": "julia-1.0"
  },
  "language_info": {
   "file_extension": ".jl",
   "mimetype": "application/julia",
   "name": "julia",
   "version": "1.0.2"
  }
 },
 "nbformat": 4,
 "nbformat_minor": 2
}
