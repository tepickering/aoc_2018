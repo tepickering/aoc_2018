{
 "cells": [
  {
   "cell_type": "code",
   "execution_count": 1,
   "metadata": {},
   "outputs": [],
   "source": [
    "import numpy as np\n",
    "from parse import parse"
   ]
  },
  {
   "cell_type": "code",
   "execution_count": 33,
   "metadata": {},
   "outputs": [],
   "source": [
    "with open(\"input.txt\", \"r\") as fp:\n",
    "    region_specs = fp.readlines()"
   ]
  },
  {
   "cell_type": "code",
   "execution_count": 34,
   "metadata": {},
   "outputs": [],
   "source": [
    "format_str = \"#{:d} @ {:d},{:d}: {:d}x{:d}\""
   ]
  },
  {
   "cell_type": "code",
   "execution_count": 35,
   "metadata": {},
   "outputs": [],
   "source": [
    "regions = {}\n",
    "xmax = 0\n",
    "ymax = 0\n",
    "for r in region_specs:\n",
    "    key, xl, yl, xw, yw = parse(format_str, r)\n",
    "    regions[key] = {}\n",
    "    regions[key]['xl'] = xl\n",
    "    regions[key]['yl'] = yl\n",
    "    regions[key]['xw'] = xw\n",
    "    regions[key]['yw'] = yw\n",
    "    regions[key]['mask'] = np.ones((yw, xw))\n",
    "    if xl + xw >= xmax:\n",
    "        xmax = xl + xw\n",
    "    if yl + yw >= ymax:\n",
    "        ymax = yl + yw"
   ]
  },
  {
   "cell_type": "code",
   "execution_count": 36,
   "metadata": {},
   "outputs": [],
   "source": [
    "fabric = np.zeros((ymax, xmax))\n",
    "for k in regions.keys():\n",
    "    xl = regions[k]['xl']\n",
    "    yl = regions[k]['yl']\n",
    "    xw = regions[k]['xw']\n",
    "    yw = regions[k]['yw']\n",
    "    fabric[yl:yl+yw, xl:xl+xw] += regions[k]['mask']"
   ]
  },
  {
   "cell_type": "code",
   "execution_count": 37,
   "metadata": {},
   "outputs": [
    {
     "data": {
      "text/plain": [
       "array([2., 2., 3., ..., 2., 2., 2.])"
      ]
     },
     "execution_count": 37,
     "metadata": {},
     "output_type": "execute_result"
    }
   ],
   "source": [
    "overlap = fabric[fabric >= 2]\n",
    "overlap"
   ]
  },
  {
   "cell_type": "code",
   "execution_count": 38,
   "metadata": {},
   "outputs": [
    {
     "data": {
      "text/plain": [
       "121259"
      ]
     },
     "execution_count": 38,
     "metadata": {},
     "output_type": "execute_result"
    }
   ],
   "source": [
    "len(overlap)"
   ]
  },
  {
   "cell_type": "code",
   "execution_count": null,
   "metadata": {},
   "outputs": [],
   "source": []
  }
 ],
 "metadata": {
  "kernelspec": {
   "display_name": "Python 3",
   "language": "python",
   "name": "python3"
  },
  "language_info": {
   "codemirror_mode": {
    "name": "ipython",
    "version": 3
   },
   "file_extension": ".py",
   "mimetype": "text/x-python",
   "name": "python",
   "nbconvert_exporter": "python",
   "pygments_lexer": "ipython3",
   "version": "3.7.1"
  }
 },
 "nbformat": 4,
 "nbformat_minor": 2
}
