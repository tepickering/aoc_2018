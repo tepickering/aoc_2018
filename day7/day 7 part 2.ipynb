{
 "cells": [
  {
   "cell_type": "code",
   "execution_count": 2,
   "metadata": {},
   "outputs": [],
   "source": [
    "import networkx as nx\n",
    "import matplotlib.pyplot as plt"
   ]
  },
  {
   "cell_type": "code",
   "execution_count": 175,
   "metadata": {},
   "outputs": [],
   "source": [
    "def step_time(c):\n",
    "    t = ord(c) - ord('A') + 61\n",
    "    return t"
   ]
  },
  {
   "cell_type": "code",
   "execution_count": 176,
   "metadata": {},
   "outputs": [
    {
     "name": "stdout",
     "output_type": "stream",
     "text": [
      "Total time is 1056\n"
     ]
    }
   ],
   "source": [
    "G = nx.DiGraph()\n",
    "with open(\"input.txt\", 'r') as fp:\n",
    "    for l in fp.readlines():\n",
    "        words = l.strip().split()\n",
    "        c1, c2 = words[1], words[7]\n",
    "        n1, n2 = G.add_node(c1, time=step_time(c1)), G.add_node(c2, time=step_time(c2))\n",
    "        G.add_edge(c1, c2)\n",
    "\n",
    "n_workers = 5\n",
    "time = 0\n",
    "while G.nodes:\n",
    "    available_nodes = [node for node in G.nodes if G.in_degree(node) == 0]\n",
    "    #available_nodes.sort()\n",
    "    #available_nodes.sort(key=lambda node: G.nodes[node]['time'])\n",
    "    for worker, node in zip(range(n_workers), available_nodes):\n",
    "        #print(\"{}: Worker {} is on task {}\".format(time, worker, node))\n",
    "        G.nodes[node]['time'] -= 1\n",
    "        \n",
    "        if G.nodes[node]['time'] == 0:\n",
    "            G.remove_node(node)\n",
    "    time += 1\n",
    "print(f\"Total time is {time}\")"
   ]
  },
  {
   "cell_type": "code",
   "execution_count": null,
   "metadata": {},
   "outputs": [],
   "source": []
  }
 ],
 "metadata": {
  "kernelspec": {
   "display_name": "Python 3",
   "language": "python",
   "name": "python3"
  },
  "language_info": {
   "codemirror_mode": {
    "name": "ipython",
    "version": 3
   },
   "file_extension": ".py",
   "mimetype": "text/x-python",
   "name": "python",
   "nbconvert_exporter": "python",
   "pygments_lexer": "ipython3",
   "version": "3.7.1"
  }
 },
 "nbformat": 4,
 "nbformat_minor": 2
}
