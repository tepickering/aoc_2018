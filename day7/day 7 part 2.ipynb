{
 "cells": [
  {
   "cell_type": "code",
   "execution_count": 3,
   "metadata": {},
   "outputs": [],
   "source": [
    "import networkx as nx\n",
    "import matplotlib.pyplot as plt"
   ]
  },
  {
   "cell_type": "code",
   "execution_count": 109,
   "metadata": {},
   "outputs": [],
   "source": [
    "def step_time(c):\n",
    "    t = ord(c) - ord('A') + 1\n",
    "    return t\n",
    "\n",
    "class Worker:\n",
    "    def __init__(self, c='.', nticks=0):\n",
    "        self.c = c\n",
    "        self.nticks = nticks\n",
    "        self.free = True\n",
    "\n",
    "    @property\n",
    "    def tick(self):\n",
    "        if self.nticks <= 0:\n",
    "            self.free = True\n",
    "            self.c = \".\"\n",
    "            return self.c\n",
    "        if self.nticks > 0:\n",
    "            self.nticks -= 1\n",
    "            return self.c\n",
    "        if self.free:\n",
    "            self.c = \".\"\n",
    "            return self.c\n",
    "        \n",
    "    def run(self, c, nticks):\n",
    "        self.free = False\n",
    "        self.c = c\n",
    "        self.nticks = nticks"
   ]
  },
  {
   "cell_type": "code",
   "execution_count": 52,
   "metadata": {},
   "outputs": [
    {
     "data": {
      "text/plain": [
       "[('C', AtlasView({'A': {}, 'F': {}})),\n",
       " ('A', AtlasView({'B': {}, 'D': {}})),\n",
       " ('F', AtlasView({'E': {}})),\n",
       " ('B', AtlasView({'E': {}})),\n",
       " ('D', AtlasView({'E': {}})),\n",
       " ('E', AtlasView({}))]"
      ]
     },
     "execution_count": 52,
     "metadata": {},
     "output_type": "execute_result"
    }
   ],
   "source": [
    "[(c, G[c]) for c in G.nodes]"
   ]
  },
  {
   "cell_type": "code",
   "execution_count": 15,
   "metadata": {},
   "outputs": [
    {
     "data": {
      "image/png": "[encoded data removed]",
      "text/plain": [
       "<Figure size 432x288 with 1 Axes>"
      ]
     },
     "metadata": {},
     "output_type": "display_data"
    }
   ],
   "source": [
    "nx.draw(G, with_labels=True)\n",
    "plt.show()"
   ]
  },
  {
   "cell_type": "code",
   "execution_count": 149,
   "metadata": {},
   "outputs": [],
   "source": [
    "G = nx.DiGraph()\n",
    "with open(\"test\", 'r') as fp:\n",
    "    for l in fp.readlines():\n",
    "        words = l.strip().split()\n",
    "        c1, c2 = words[1], words[7]\n",
    "        n1, n2 = G.add_node(c1, time=step_time(c1)), G.add_node(c2, time=step_time(c2))\n",
    "        G.add_edge(c1, c2)"
   ]
  },
  {
   "cell_type": "code",
   "execution_count": 150,
   "metadata": {},
   "outputs": [
    {
     "name": "stdout",
     "output_type": "stream",
     "text": [
      "Second   Worker 1   Worker 2   Done\n",
      "0    C     .\n",
      "1    C     ..\n",
      "2    C     ...\n",
      "3         ...C.\n",
      "4    A     ...C.C.\n",
      "5    F     ...C.C.A\n",
      "6    B   F     ...C.C.AA\n",
      "7    B   F     ...C.C.AA\n",
      "8    F     ...C.C.AAB\n",
      "9    D   F     ...C.C.AABB\n",
      "10    D   F     ...C.C.AABB\n",
      "11    D     ...C.C.AABBF\n",
      "12    D     ...C.C.AABBFF.\n",
      "13         ...C.C.AABBFF.D.\n",
      "14    E     ...C.C.AABBFF.D.D.\n",
      "15    E     ...C.C.AABBFF.D.D..\n",
      "16    E     ...C.C.AABBFF.D.D...\n",
      "17    E     ...C.C.AABBFF.D.D....\n",
      "18    E     ...C.C.AABBFF.D.D.....\n",
      "19         ...C.C.AABBFF.D.D.....E.\n"
     ]
    }
   ],
   "source": [
    "ticker = 0\n",
    "result = \"\"\n",
    "ready_list = []\n",
    "for n in G.nodes:\n",
    "    if len(list(G.predecessors(n))) == 0:\n",
    "        ready_list.append(n)\n",
    "running_list = []\n",
    "workers = (Worker(), Worker())\n",
    "print(\"Second   Worker 1   Worker 2   Done\")\n",
    "while (len(ready_list) + len(running_list)) > 0 and len(list(G.nodes)) > 0:\n",
    "    for node in ready_list:\n",
    "        if len(list(G.predecessors(node))) > 0 or node in running_list:\n",
    "            continue\n",
    "        for worker in workers:\n",
    "            if worker.free:\n",
    "                worker.run(node, G.nodes[node]['time'])\n",
    "                ready_list.remove(node)\n",
    "                running_list.append(node)\n",
    "                break\n",
    "    status = []\n",
    "    for worker in workers:\n",
    "        prev = worker.c\n",
    "        worker.tick\n",
    "        if worker.free:\n",
    "            result += prev\n",
    "        else:\n",
    "            status.append(worker.c)\n",
    "    print(\"{}    {}     {}\".format(ticker, \"   \".join(status), result))\n",
    "    ticker += 1\n",
    "    for running in running_list:\n",
    "        if running not in status:\n",
    "            result += running\n",
    "            running_list.remove(running)\n",
    "            ready_list += list(G.successors(running))\n",
    "            G.remove_node(running)"
   ]
  },
  {
   "cell_type": "code",
   "execution_count": null,
   "metadata": {},
   "outputs": [],
   "source": [
    "for n in G.nodes:\n",
    "        successors = sorted(list(G[n].keys()))\n",
    "        predecessors = sorted(list(G.predecessors(n)))\n",
    "        if len(predecessors) == 0:\n",
    "            for worker in workers:\n",
    "                if worker.free:\n",
    "                    worker.run(n, G.nodes[n]['time'])\n",
    "                    \n",
    "        else:\n",
    "            for p in predecessors:\n"
   ]
  },
  {
   "cell_type": "code",
   "execution_count": 47,
   "metadata": {},
   "outputs": [
    {
     "data": {
      "text/plain": [
       "3"
      ]
     },
     "execution_count": 47,
     "metadata": {},
     "output_type": "execute_result"
    }
   ],
   "source": [
    "G.nodes['C']['time']"
   ]
  },
  {
   "cell_type": "code",
   "execution_count": 45,
   "metadata": {},
   "outputs": [
    {
     "data": {
      "text/plain": [
       "['A', 'F']"
      ]
     },
     "execution_count": 45,
     "metadata": {},
     "output_type": "execute_result"
    }
   ],
   "source": [
    "list(G['C'].keys())"
   ]
  },
  {
   "cell_type": "code",
   "execution_count": 30,
   "metadata": {},
   "outputs": [],
   "source": [
    "nx.lexicographical_topological_sort?"
   ]
  },
  {
   "cell_type": "code",
   "execution_count": 39,
   "metadata": {},
   "outputs": [
    {
     "data": {
      "text/plain": [
       "OutEdgeView([('C', 'A'), ('C', 'F'), ('A', 'B'), ('A', 'D'), ('F', 'E'), ('B', 'E'), ('D', 'E')])"
      ]
     },
     "execution_count": 39,
     "metadata": {},
     "output_type": "execute_result"
    }
   ],
   "source": [
    "G.edges"
   ]
  },
  {
   "cell_type": "code",
   "execution_count": 69,
   "metadata": {},
   "outputs": [
    {
     "data": {
      "text/plain": [
       "['B', 'D', 'F']"
      ]
     },
     "execution_count": 69,
     "metadata": {},
     "output_type": "execute_result"
    }
   ],
   "source": [
    "sorted(list(G.predecessors('E')))"
   ]
  },
  {
   "cell_type": "code",
   "execution_count": 44,
   "metadata": {},
   "outputs": [
    {
     "data": {
      "text/plain": [
       "['C', 'A', 'F', 'B', 'D', 'E']"
      ]
     },
     "execution_count": 44,
     "metadata": {},
     "output_type": "execute_result"
    }
   ],
   "source": [
    "list(G.nodes)"
   ]
  },
  {
   "cell_type": "code",
   "execution_count": 53,
   "metadata": {},
   "outputs": [],
   "source": [
    "G.remove_node('C')"
   ]
  },
  {
   "cell_type": "code",
   "execution_count": 58,
   "metadata": {},
   "outputs": [
    {
     "data": {
      "text/plain": [
       "6"
      ]
     },
     "execution_count": 58,
     "metadata": {},
     "output_type": "execute_result"
    }
   ],
   "source": [
    "len(G.nodes)"
   ]
  },
  {
   "cell_type": "code",
   "execution_count": 77,
   "metadata": {},
   "outputs": [
    {
     "data": {
      "text/plain": [
       "['B', 'D']"
      ]
     },
     "execution_count": 77,
     "metadata": {},
     "output_type": "execute_result"
    }
   ],
   "source": [
    "list(G.successors('A'))"
   ]
  },
  {
   "cell_type": "code",
   "execution_count": 60,
   "metadata": {},
   "outputs": [
    {
     "data": {
      "text/plain": [
       "'C'"
      ]
     },
     "execution_count": 60,
     "metadata": {},
     "output_type": "execute_result"
    }
   ],
   "source": [
    "list(G.nodes)[0]"
   ]
  },
  {
   "cell_type": "code",
   "execution_count": 88,
   "metadata": {},
   "outputs": [
    {
     "data": {
      "text/plain": [
       "[2, 4, 5]"
      ]
     },
     "execution_count": 88,
     "metadata": {},
     "output_type": "execute_result"
    }
   ],
   "source": [
    "l = [1, 2]\n",
    "l.remove(1)\n",
    "l + [4, 5]"
   ]
  },
  {
   "cell_type": "code",
   "execution_count": 66,
   "metadata": {},
   "outputs": [
    {
     "data": {
      "text/plain": [
       "2"
      ]
     },
     "execution_count": 66,
     "metadata": {},
     "output_type": "execute_result"
    }
   ],
   "source": [
    "len(G['C'])"
   ]
  },
  {
   "cell_type": "code",
   "execution_count": 76,
   "metadata": {},
   "outputs": [
    {
     "name": "stdout",
     "output_type": "stream",
     "text": [
      "0 C   A   F   B   D   E\n"
     ]
    }
   ],
   "source": [
    "print(\"{} {}\".format(0, \"   \".join(G.nodes)))"
   ]
  },
  {
   "cell_type": "code",
   "execution_count": null,
   "metadata": {},
   "outputs": [],
   "source": []
  }
 ],
 "metadata": {
  "kernelspec": {
   "display_name": "Python 3",
   "language": "python",
   "name": "python3"
  },
  "language_info": {
   "codemirror_mode": {
    "name": "ipython",
    "version": 3
   },
   "file_extension": ".py",
   "mimetype": "text/x-python",
   "name": "python",
   "nbconvert_exporter": "python",
   "pygments_lexer": "ipython3",
   "version": "3.7.1"
  }
 },
 "nbformat": 4,
 "nbformat_minor": 2
}
