{
 "cells": [
  {
   "cell_type": "code",
   "execution_count": 108,
   "metadata": {},
   "outputs": [],
   "source": [
    "import numpy as np\n",
    "from scipy.optimize import minimize\n",
    "from astropy.convolution import convolve, Box2DKernel"
   ]
  },
  {
   "cell_type": "code",
   "execution_count": 51,
   "metadata": {},
   "outputs": [],
   "source": [
    "def get_digit(number, n):\n",
    "    return number // 10**n % 10"
   ]
  },
  {
   "cell_type": "code",
   "execution_count": 171,
   "metadata": {},
   "outputs": [
    {
     "data": {
      "text/plain": [
       "(284, 50, 17391)"
      ]
     },
     "execution_count": 171,
     "metadata": {},
     "output_type": "execute_result"
    }
   ],
   "source": [
    "size = 300\n",
    "grid_serial = 6303\n",
    "grid = np.ones((size, size))\n",
    "y, x = np.mgrid[0:size, 0:size]\n",
    "rack_id = x + 10\n",
    "power_level = rack_id * y\n",
    "power_level += grid_serial\n",
    "power_level *= rack_id\n",
    "power_level = get_digit(power_level, 2) - 5\n",
    "\n",
    "boxsize = 14\n",
    "kern = Box2DKernel(boxsize)\n",
    "ravel_max = np.argmax(convolve(power_level, kern))\n",
    "\n",
    "center_y, center_x = np.unravel_index(ravel_max, dims=(size, size))\n",
    "corner_x = int(center_x + 0.5 - boxsize/2)\n",
    "corner_y = int(center_y + 0.5 - boxsize/2)\n",
    "corner_x, corner_y, ravel_max"
   ]
  },
  {
   "cell_type": "code",
   "execution_count": 166,
   "metadata": {},
   "outputs": [],
   "source": [
    "def min_func(s):\n",
    "    global power_level\n",
    "    global size\n",
    "    kern = Box2DKernel(s)\n",
    "    max_1d = np.argmax(convolve(power_level, kern))\n",
    "    if s > size:\n",
    "        s = size\n",
    "    if s < 1:\n",
    "        s = 1\n",
    "    yc, xc = np.unravel_index(max_1d, dims=(size, size))\n",
    "    lx, ly = int(xc + 0.5 - s/2), int(yc + 0.5 - s/2)\n",
    "    ux, uy = lx+s+1, ly+s+1  # numpy quirk to slice one past where you want\n",
    "    power = power_level[ly:uy, lx:ux].sum()  # set negative to minimize\n",
    "    return power"
   ]
  },
  {
   "cell_type": "code",
   "execution_count": 165,
   "metadata": {},
   "outputs": [
    {
     "data": {
      "text/plain": [
       "      fun: -27\n",
       " hess_inv: array([[1]])\n",
       "      jac: array([0.])\n",
       "  message: 'Optimization terminated successfully.'\n",
       "     nfev: 3\n",
       "      nit: 0\n",
       "     njev: 1\n",
       "   status: 0\n",
       "  success: True\n",
       "        x: array([3.])"
      ]
     },
     "execution_count": 165,
     "metadata": {},
     "output_type": "execute_result"
    }
   ],
   "source": [
    "pars = (3)\n",
    "min_results = minimize(min_func, pars)\n",
    "best_size = np.round(min_results['x'])\n",
    "min_results"
   ]
  },
  {
   "cell_type": "code",
   "execution_count": 169,
   "metadata": {},
   "outputs": [
    {
     "data": {
      "text/plain": [
       "[-4,\n",
       " 23,\n",
       " 20,\n",
       " 49,\n",
       " 52,\n",
       " 64,\n",
       " 52,\n",
       " 63,\n",
       " 50,\n",
       " 49,\n",
       " 61,\n",
       " 71,\n",
       " 63,\n",
       " 73,\n",
       " 49,\n",
       " 60,\n",
       " 65,\n",
       " 72,\n",
       " 67,\n",
       " 52,\n",
       " 31,\n",
       " 41,\n",
       " 22,\n",
       " 20,\n",
       " 25,\n",
       " 12,\n",
       " 18,\n",
       " 2,\n",
       " -15,\n",
       " 0,\n",
       " 0,\n",
       " 0,\n",
       " 0,\n",
       " 0,\n",
       " 0,\n",
       " 0,\n",
       " 0,\n",
       " 0,\n",
       " 0,\n",
       " 0,\n",
       " 0,\n",
       " 0,\n",
       " 0,\n",
       " 0,\n",
       " 0,\n",
       " 0,\n",
       " 0,\n",
       " 0,\n",
       " 0,\n",
       " 0,\n",
       " 0,\n",
       " 0,\n",
       " 0,\n",
       " 0,\n",
       " 0,\n",
       " 0,\n",
       " 0,\n",
       " 0,\n",
       " 0,\n",
       " 0,\n",
       " 0,\n",
       " 0,\n",
       " 0,\n",
       " 0,\n",
       " 0,\n",
       " 0,\n",
       " 0,\n",
       " 0,\n",
       " 0,\n",
       " 0,\n",
       " 0,\n",
       " 0,\n",
       " 0,\n",
       " 0,\n",
       " -630,\n",
       " 0,\n",
       " 0,\n",
       " 0,\n",
       " -683,\n",
       " -717,\n",
       " 0,\n",
       " 0,\n",
       " 0,\n",
       " 0,\n",
       " 0,\n",
       " 0,\n",
       " 0,\n",
       " -851,\n",
       " -851,\n",
       " 0,\n",
       " 0,\n",
       " 0,\n",
       " 0,\n",
       " 0,\n",
       " 0,\n",
       " 0,\n",
       " 0,\n",
       " 0,\n",
       " 0,\n",
       " 0,\n",
       " 0,\n",
       " 0,\n",
       " 0,\n",
       " 0,\n",
       " 0,\n",
       " 0,\n",
       " -1287,\n",
       " -1333,\n",
       " -1320,\n",
       " -1347,\n",
       " -1347,\n",
       " 0,\n",
       " 0,\n",
       " 0,\n",
       " 0,\n",
       " 0,\n",
       " -1573,\n",
       " -1617,\n",
       " -1574,\n",
       " -1640,\n",
       " -1598,\n",
       " -1677,\n",
       " -1677,\n",
       " -1840,\n",
       " -1840,\n",
       " -1929,\n",
       " -1929,\n",
       " -2007,\n",
       " 0,\n",
       " 0,\n",
       " 0,\n",
       " 0,\n",
       " 0,\n",
       " 0,\n",
       " 0,\n",
       " 0,\n",
       " 0,\n",
       " 0,\n",
       " 0,\n",
       " 0,\n",
       " 0,\n",
       " 0,\n",
       " 0,\n",
       " -2547,\n",
       " -2547,\n",
       " -2618,\n",
       " -2604,\n",
       " -2644,\n",
       " -2644]"
      ]
     },
     "execution_count": 169,
     "metadata": {},
     "output_type": "execute_result"
    }
   ],
   "source": [
    "powers = []\n",
    "for bs in range(1,int(size/2),1):\n",
    "    powers.append(min_func(bs))\n",
    "powers"
   ]
  },
  {
   "cell_type": "code",
   "execution_count": 183,
   "metadata": {},
   "outputs": [
    {
     "data": {
      "text/plain": [
       "array([[-5, -2,  1],\n",
       "       [-4, -1,  2],\n",
       "       [-3,  0,  4]])"
      ]
     },
     "execution_count": 183,
     "metadata": {},
     "output_type": "execute_result"
    }
   ],
   "source": [
    "power_level[0:3, 0:3]"
   ]
  },
  {
   "cell_type": "code",
   "execution_count": 181,
   "metadata": {},
   "outputs": [
    {
     "name": "stdout",
     "output_type": "stream",
     "text": [
      "282 48 31\n",
      "282 49 54\n",
      "282 50 48\n",
      "282 51 32\n",
      "282 52 46\n",
      "283 48 40\n",
      "283 49 61\n",
      "283 50 63\n",
      "283 51 45\n",
      "283 52 56\n",
      "284 48 45\n",
      "284 49 69\n",
      "284 50 73\n",
      "284 51 47\n",
      "284 52 50\n",
      "285 48 38\n",
      "285 49 59\n",
      "285 50 61\n",
      "285 51 41\n",
      "285 52 41\n",
      "286 48 6\n",
      "286 49 23\n",
      "286 50 22\n",
      "286 51 8\n",
      "286 52 14\n"
     ]
    }
   ],
   "source": [
    "for i in range(5):\n",
    "    for j in range(5):\n",
    "        lx, ly = 284+i-2, 50+j-2\n",
    "        ux, uy = lx+boxsize+1, ly+boxsize+1\n",
    "        psum = power_level[ly:uy, lx:ux].sum()\n",
    "        print(lx, ly, psum)"
   ]
  },
  {
   "cell_type": "code",
   "execution_count": 203,
   "metadata": {},
   "outputs": [],
   "source": [
    "# heck with it, go straight brute force...\n",
    "pmaxes = []\n",
    "xmaxes = []\n",
    "ymaxes = []\n",
    "for s in range(1, size, 1):\n",
    "    pmax = -np.inf\n",
    "    for i in range(size-s+1):\n",
    "        for j in range(size-s+1):\n",
    "            p = power_level[i:i+s, j:j+s].sum()\n",
    "            if p > pmax:\n",
    "                pmax = p\n",
    "                xmax = j\n",
    "                ymax = i\n",
    "    pmaxes.append(pmax)\n",
    "    xmaxes.append(xmax)\n",
    "    ymaxes.append(ymax)"
   ]
  },
  {
   "cell_type": "code",
   "execution_count": 204,
   "metadata": {},
   "outputs": [
    {
     "data": {
      "text/plain": [
       "11"
      ]
     },
     "execution_count": 204,
     "metadata": {},
     "output_type": "execute_result"
    }
   ],
   "source": [
    "np.argmax(pmaxes)"
   ]
  },
  {
   "cell_type": "code",
   "execution_count": 205,
   "metadata": {},
   "outputs": [
    {
     "data": {
      "text/plain": [
       "(284, 172)"
      ]
     },
     "execution_count": 205,
     "metadata": {},
     "output_type": "execute_result"
    }
   ],
   "source": [
    "xmaxes[11], ymaxes[11]"
   ]
  },
  {
   "cell_type": "code",
   "execution_count": 206,
   "metadata": {},
   "outputs": [
    {
     "data": {
      "text/plain": [
       "88"
      ]
     },
     "execution_count": 206,
     "metadata": {},
     "output_type": "execute_result"
    }
   ],
   "source": [
    "pmaxes[11]"
   ]
  },
  {
   "cell_type": "code",
   "execution_count": 202,
   "metadata": {},
   "outputs": [
    {
     "data": {
      "text/plain": [
       "12"
      ]
     },
     "execution_count": 202,
     "metadata": {},
     "output_type": "execute_result"
    }
   ],
   "source": [
    "list(range(1, size, 1))[11]"
   ]
  },
  {
   "cell_type": "code",
   "execution_count": null,
   "metadata": {},
   "outputs": [],
   "source": []
  }
 ],
 "metadata": {
  "kernelspec": {
   "display_name": "Python 3",
   "language": "python",
   "name": "python3"
  },
  "language_info": {
   "codemirror_mode": {
    "name": "ipython",
    "version": 3
   },
   "file_extension": ".py",
   "mimetype": "text/x-python",
   "name": "python",
   "nbconvert_exporter": "python",
   "pygments_lexer": "ipython3",
   "version": "3.7.1"
  }
 },
 "nbformat": 4,
 "nbformat_minor": 2
}
