{
 "cells": [
  {
   "cell_type": "code",
   "execution_count": 3,
   "metadata": {},
   "outputs": [
    {
     "data": {
      "text/plain": [
       ":initialize"
      ]
     },
     "execution_count": 3,
     "metadata": {},
     "output_type": "execute_result"
    }
   ],
   "source": [
    "class Guard\n",
    "  attr_writer :sleep_time\n",
    "  attr_reader :sleep_time\n",
    "  def initialize\n",
    "    @sleep_time = Array.new(60, 0)\n",
    "  end\n",
    "end"
   ]
  },
  {
   "cell_type": "code",
   "execution_count": 4,
   "metadata": {},
   "outputs": [],
   "source": [
    "sleeps = nil\n",
    "wakes = nil\n",
    "onduty = nil\n",
    "guards = Hash.new\n",
    "\n",
    "IO.foreach(\"test\") { |l|\n",
    "    line = l.strip!\n",
    "    pieces = line.split\n",
    "    date = pieces[0][1..-1]\n",
    "    time = pieces[1][0..-2]\n",
    "    minute = time.split(':')[1].to_i\n",
    "    action = pieces[2]\n",
    "    case action\n",
    "      when \"Guard\"\n",
    "        key = pieces[3]\n",
    "        if not guards.has_key?(key)\n",
    "          guards[key] = Guard.new\n",
    "        end\n",
    "        onduty = guards[key]\n",
    "      when \"falls\"\n",
    "        sleeps = minute\n",
    "      when \"wakes\"\n",
    "        wakes = minute\n",
    "        (sleeps...wakes).each { |m|\n",
    "          onduty.sleep_time[m] += 1\n",
    "        }\n",
    "    end \n",
    "}"
   ]
  },
  {
   "cell_type": "code",
   "execution_count": 5,
   "metadata": {},
   "outputs": [
    {
     "name": "stdout",
     "output_type": "stream",
     "text": [
      "Worst guard is 99 who slept 3 times at 00:45\n",
      "Checksum 4455\n"
     ]
    }
   ],
   "source": [
    "max_slept = 0\n",
    "max_slept_at = nil\n",
    "worst_guard = nil\n",
    "\n",
    "guards.each { |k, g|\n",
    "  g.sleep_time.each_index { |i|\n",
    "    if g.sleep_time[i] > max_slept\n",
    "      max_slept = g.sleep_time[i]\n",
    "      max_slept_at = i\n",
    "      worst_guard = k[1..-1].to_i\n",
    "    end\n",
    "  }\n",
    "}\n",
    "puts \"Worst guard is #{worst_guard} who slept #{max_slept} times at 00:#{max_slept_at}\"\n",
    "checksum = worst_guard * max_slept_at\n",
    "puts \"Checksum #{checksum}\""
   ]
  }
 ],
 "metadata": {
  "kernelspec": {
   "display_name": "Ruby 2.4.1",
   "language": "ruby",
   "name": "ruby"
  },
  "language_info": {
   "file_extension": ".rb",
   "mimetype": "application/x-ruby",
   "name": "ruby",
   "version": "2.4.1"
  }
 },
 "nbformat": 4,
 "nbformat_minor": 2
}
