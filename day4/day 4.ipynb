{
 "cells": [
  {
   "cell_type": "code",
   "execution_count": 46,
   "metadata": {},
   "outputs": [
    {
     "data": {
      "text/plain": [
       ":initialize"
      ]
     },
     "execution_count": 46,
     "metadata": {},
     "output_type": "execute_result"
    }
   ],
   "source": [
    "class Guard\n",
    "  attr_writer :sleep_time\n",
    "  attr_reader :sleep_time\n",
    "  def initialize\n",
    "    @sleep_time = Array.new(60, 0)\n",
    "  end\n",
    "end"
   ]
  },
  {
   "cell_type": "code",
   "execution_count": 54,
   "metadata": {},
   "outputs": [],
   "source": [
    "sleeps = nil\n",
    "wakes = nil\n",
    "onduty = nil\n",
    "guards = Hash.new\n",
    "\n",
    "IO.foreach(\"sorted_input.txt\") { |l|\n",
    "    line = l.strip!\n",
    "    pieces = line.split\n",
    "    date = pieces[0][1..-1]\n",
    "    time = pieces[1][0..-2]\n",
    "    minute = time.split(':')[1].to_i\n",
    "    action = pieces[2]\n",
    "    case action\n",
    "      when \"Guard\"\n",
    "        key = pieces[3]\n",
    "        if not guards.has_key?(key)\n",
    "          guards[key] = Guard.new\n",
    "        end\n",
    "        onduty = guards[key]\n",
    "      when \"falls\"\n",
    "        sleeps = minute\n",
    "      when \"wakes\"\n",
    "        wakes = minute\n",
    "        (sleeps...wakes).each { |m|\n",
    "          onduty.sleep_time[m] += 1\n",
    "        }\n",
    "    end \n",
    "}"
   ]
  },
  {
   "cell_type": "code",
   "execution_count": 55,
   "metadata": {},
   "outputs": [
    {
     "name": "stdout",
     "output_type": "stream",
     "text": [
      "Worst guard is 3557 who slept 525 min and was asleep most often at 00:30\n",
      "Checksum 106710\n"
     ]
    }
   ],
   "source": [
    "max_slept = 0\n",
    "max_slept_at = nil\n",
    "worst_guard = nil\n",
    "\n",
    "guards.each { |k, g|\n",
    "  slept = 0\n",
    "  max_m = 0\n",
    "  g.sleep_time.each { |m|\n",
    "    slept += m\n",
    "    if m > max_m\n",
    "      max_m = m\n",
    "    end\n",
    "  }\n",
    "  max_at = g.sleep_time.index(max_m)\n",
    "  if slept > max_slept\n",
    "    max_slept = slept\n",
    "    max_slept_at = max_at\n",
    "    worst_guard = k[1..-1].to_i\n",
    "  end\n",
    "}\n",
    "puts \"Worst guard is #{worst_guard} who slept #{max_slept} min and was asleep most often at 00:#{max_slept_at}\"\n",
    "checksum = worst_guard * max_slept_at\n",
    "puts \"Checksum #{checksum}\""
   ]
  },
  {
   "cell_type": "code",
   "execution_count": null,
   "metadata": {},
   "outputs": [],
   "source": []
  }
 ],
 "metadata": {
  "kernelspec": {
   "display_name": "Ruby 2.4.1",
   "language": "ruby",
   "name": "ruby"
  },
  "language_info": {
   "file_extension": ".rb",
   "mimetype": "application/x-ruby",
   "name": "ruby",
   "version": "2.4.1"
  }
 },
 "nbformat": 4,
 "nbformat_minor": 2
}
