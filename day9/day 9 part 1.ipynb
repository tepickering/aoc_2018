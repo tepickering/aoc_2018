{
 "cells": [
  {
   "cell_type": "code",
   "execution_count": 1,
   "metadata": {},
   "outputs": [],
   "source": [
    "from collections import deque, defaultdict"
   ]
  },
  {
   "cell_type": "code",
   "execution_count": 2,
   "metadata": {},
   "outputs": [],
   "source": [
    "nworkers = 463\n",
    "workers = deque(range(nworkers))\n",
    "worker_scores = defaultdict(int)\n",
    "\n",
    "marble = 0\n",
    "game = deque([marble])\n",
    "\n",
    "max_marble = 71787"
   ]
  },
  {
   "cell_type": "code",
   "execution_count": null,
   "metadata": {},
   "outputs": [],
   "source": [
    "temp_marble = None\n",
    "while marble < max_marble:\n",
    "    wpos = workers[0] + 1\n",
    "    if temp_marble is not None:\n",
    "        opos = game.index(temp_marble)\n",
    "        temp_marble = None\n",
    "    else:\n",
    "        opos = game.index(marble)\n",
    "    npos = opos + 2\n",
    "    if npos > len(game):\n",
    "        npos -= len(game)\n",
    "    marble += 1\n",
    "    if (marble % 23) == 0:\n",
    "        worker_scores[wpos] += marble\n",
    "        npos -= 9\n",
    "        if npos < 0:\n",
    "            npos += len(game)\n",
    "        worker_scores[wpos] += game[npos]\n",
    "        game.remove(game[npos])\n",
    "        temp_marble = game[npos]\n",
    "    else:\n",
    "        game.insert(npos, marble)\n",
    "    #print(wpos, marble, npos)\n",
    "    workers.rotate(-1)"
   ]
  },
  {
   "cell_type": "code",
   "execution_count": null,
   "metadata": {},
   "outputs": [],
   "source": [
    "sorted(worker_scores.items(), key=lambda kv: kv[1])[-1]"
   ]
  },
  {
   "cell_type": "code",
   "execution_count": null,
   "metadata": {},
   "outputs": [],
   "source": []
  }
 ],
 "metadata": {
  "kernelspec": {
   "display_name": "Python 3",
   "language": "python",
   "name": "python3"
  },
  "language_info": {
   "codemirror_mode": {
    "name": "ipython",
    "version": 3
   },
   "file_extension": ".py",
   "mimetype": "text/x-python",
   "name": "python",
   "nbconvert_exporter": "python",
   "pygments_lexer": "ipython3",
   "version": "3.7.1"
  }
 },
 "nbformat": 4,
 "nbformat_minor": 2
}
