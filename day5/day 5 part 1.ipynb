{
 "cells": [
  {
   "cell_type": "code",
   "execution_count": 46,
   "metadata": {},
   "outputs": [],
   "source": [
    "import numpy as np"
   ]
  },
  {
   "cell_type": "code",
   "execution_count": 41,
   "metadata": {},
   "outputs": [],
   "source": [
    "with open(\"test\", \"r\") as fp:\n",
    "    s = fp.readline().strip()\n",
    "size = len(s)"
   ]
  },
  {
   "cell_type": "code",
   "execution_count": 45,
   "metadata": {},
   "outputs": [
    {
     "data": {
      "text/plain": [
       "'a'"
      ]
     },
     "execution_count": 45,
     "metadata": {},
     "output_type": "execute_result"
    }
   ],
   "source": [
    "lower_s = s.lower()\n"
   ]
  },
  {
   "cell_type": "code",
   "execution_count": 37,
   "metadata": {},
   "outputs": [
    {
     "name": "stdout",
     "output_type": "stream",
     "text": [
      "dabCBAcaDA\n",
      "10\n"
     ]
    }
   ],
   "source": [
    "while True:\n",
    "    s_arr = []\n",
    "    flag = False\n",
    "    for i, c in enumerate(s):\n",
    "        if flag:\n",
    "            flag = False\n",
    "            continue\n",
    "        if i < len(s)-1:\n",
    "            if (c.lower() == s[i+1].lower()) and ((c.islower() and s[i+1].isupper()) or (c.isupper() and s[i+1].islower())):\n",
    "                flag = True\n",
    "            else:\n",
    "                s_arr.append(c)\n",
    "    s_arr.append(s[-1])\n",
    "    s = \"\".join(s_arr)\n",
    "    if len(s) < size:\n",
    "        size = len(s)\n",
    "    else:\n",
    "        break\n",
    "print(s)\n",
    "print(len(s))"
   ]
  },
  {
   "cell_type": "code",
   "execution_count": null,
   "metadata": {},
   "outputs": [],
   "source": []
  }
 ],
 "metadata": {
  "kernelspec": {
   "display_name": "Python 3",
   "language": "python",
   "name": "python3"
  },
  "language_info": {
   "codemirror_mode": {
    "name": "ipython",
    "version": 3
   },
   "file_extension": ".py",
   "mimetype": "text/x-python",
   "name": "python",
   "nbconvert_exporter": "python",
   "pygments_lexer": "ipython3",
   "version": "3.7.1"
  }
 },
 "nbformat": 4,
 "nbformat_minor": 2
}
