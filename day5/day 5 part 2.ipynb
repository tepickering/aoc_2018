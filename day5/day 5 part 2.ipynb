{
 "cells": [
  {
   "cell_type": "code",
   "execution_count": 18,
   "metadata": {},
   "outputs": [],
   "source": [
    "import string"
   ]
  },
  {
   "cell_type": "code",
   "execution_count": 47,
   "metadata": {},
   "outputs": [],
   "source": [
    "def react_string(s):\n",
    "    size = len(s)\n",
    "    while True:\n",
    "        s_arr = []\n",
    "        flag = False\n",
    "        for i, c in enumerate(s):\n",
    "            if flag:\n",
    "                flag = False\n",
    "                continue\n",
    "            if i < len(s)-1:\n",
    "                if (c.lower() == s[i+1].lower()) and ((c.islower() and s[i+1].isupper()) or (c.isupper() and s[i+1].islower())):\n",
    "                    flag = True\n",
    "                else:\n",
    "                    s_arr.append(c)\n",
    "        s_arr.append(s[-1])\n",
    "        s = \"\".join(s_arr)\n",
    "        if len(s) < size:\n",
    "            size = len(s)\n",
    "        else:\n",
    "            break\n",
    "    return s"
   ]
  },
  {
   "cell_type": "code",
   "execution_count": 51,
   "metadata": {},
   "outputs": [],
   "source": [
    "with open(\"input.txt\", \"r\") as fp:\n",
    "    s = fp.readline().strip()\n",
    "size = len(s)"
   ]
  },
  {
   "cell_type": "code",
   "execution_count": 53,
   "metadata": {},
   "outputs": [
    {
     "name": "stdout",
     "output_type": "stream",
     "text": [
      "10564\n"
     ]
    }
   ],
   "source": [
    "result = react_string(s)\n",
    "print(len(result))"
   ]
  },
  {
   "cell_type": "code",
   "execution_count": 54,
   "metadata": {},
   "outputs": [
    {
     "name": "stdout",
     "output_type": "stream",
     "text": [
      "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\n",
      "6336\n"
     ]
    }
   ],
   "source": [
    "min_l = len(s)\n",
    "for lc in string.ascii_lowercase:\n",
    "    new_s = s.replace(lc, \"\")\n",
    "    new_s = new_s.replace(lc.upper(), \"\")\n",
    "    red_s = react_string(new_s)\n",
    "    if len(red_s) < min_l:\n",
    "        min_l = len(red_s)\n",
    "        min_red_s = red_s\n",
    "        \n",
    "print(min_red_s)\n",
    "print(min_l)"
   ]
  },
  {
   "cell_type": "code",
   "execution_count": null,
   "metadata": {},
   "outputs": [],
   "source": []
  }
 ],
 "metadata": {
  "kernelspec": {
   "display_name": "Python 3",
   "language": "python",
   "name": "python3"
  },
  "language_info": {
   "codemirror_mode": {
    "name": "ipython",
    "version": 3
   },
   "file_extension": ".py",
   "mimetype": "text/x-python",
   "name": "python",
   "nbconvert_exporter": "python",
   "pygments_lexer": "ipython3",
   "version": "3.7.1"
  }
 },
 "nbformat": 4,
 "nbformat_minor": 2
}
