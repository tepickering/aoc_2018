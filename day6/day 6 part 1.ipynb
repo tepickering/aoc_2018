{
 "cells": [
  {
   "cell_type": "code",
   "execution_count": 1,
   "metadata": {},
   "outputs": [],
   "source": [
    "import numpy as np\n",
    "from scipy.spatial import distance"
   ]
  },
  {
   "cell_type": "code",
   "execution_count": 2,
   "metadata": {},
   "outputs": [],
   "source": [
    "class Point:\n",
    "    def __init__(self, x, y):\n",
    "        self.x = x\n",
    "        self.y = y\n",
    "    \n",
    "    @property\n",
    "    def as_np(self):\n",
    "        return np.array([self.y, self.x])\n",
    "\n",
    "def parse_point(s):\n",
    "    x, y = s.split(',')\n",
    "    return Point(int(x), int(y))"
   ]
  },
  {
   "cell_type": "code",
   "execution_count": 10,
   "metadata": {},
   "outputs": [],
   "source": [
    "max_x = -np.inf\n",
    "max_y = -np.inf\n",
    "points = {}\n",
    "with open(\"input.txt\", \"r\") as fp:\n",
    "    for l in fp.readlines():\n",
    "        key = l.strip()\n",
    "        p = parse_point(key)\n",
    "        points[key] = p\n",
    "        if p.x > max_x:\n",
    "            max_x = p.x\n",
    "        if p.y > max_y:\n",
    "            max_y = p.y\n",
    "p_list = list(points.keys())"
   ]
  },
  {
   "cell_type": "code",
   "execution_count": 11,
   "metadata": {},
   "outputs": [],
   "source": [
    "masks = []\n",
    "ogrid = np.ogrid[0:max_y+1, 0:max_x+1]\n",
    "for k in points:\n",
    "    masks.append(distance.cityblock(points[k].as_np, ogrid))\n",
    "masks = np.array(masks)"
   ]
  },
  {
   "cell_type": "code",
   "execution_count": 12,
   "metadata": {},
   "outputs": [
    {
     "data": {
      "text/plain": [
       "array([[14, 14, 14, ..., 45, 45, 45],\n",
       "       [14, 14, 14, ..., 45, 45, 45],\n",
       "       [14, 14, 14, ..., 45, 45, 45],\n",
       "       ...,\n",
       "       [33, 33, 33, ..., 34, 34, 34],\n",
       "       [33, 33, 33, ..., 34, 34, 34],\n",
       "       [33, 33, 33, ..., 34, 34, 34]])"
      ]
     },
     "execution_count": 12,
     "metadata": {},
     "output_type": "execute_result"
    }
   ],
   "source": [
    "group_mask = np.argmin(masks, axis=0)\n",
    "group_mask"
   ]
  },
  {
   "cell_type": "code",
   "execution_count": 13,
   "metadata": {},
   "outputs": [
    {
     "data": {
      "text/plain": [
       "array([[1., 1., 1., ..., 1., 1., 1.],\n",
       "       [1., 1., 1., ..., 1., 1., 1.],\n",
       "       [1., 1., 1., ..., 1., 1., 1.],\n",
       "       ...,\n",
       "       [1., 1., 1., ..., 1., 1., 1.],\n",
       "       [1., 1., 1., ..., 1., 1., 1.],\n",
       "       [1., 1., 1., ..., 1., 1., 1.]])"
      ]
     },
     "execution_count": 13,
     "metadata": {},
     "output_type": "execute_result"
    }
   ],
   "source": [
    "dup_mask = np.ones(group_mask.shape)\n",
    "z, y, x = masks.shape\n",
    "for i in range(y):\n",
    "    for j in range(x):\n",
    "        arr = masks[:, i, j]\n",
    "        if len(arr[arr == arr.min()]) > 1:\n",
    "            dup_mask[i, j] = np.nan\n",
    "dup_mask"
   ]
  },
  {
   "cell_type": "code",
   "execution_count": 14,
   "metadata": {},
   "outputs": [
    {
     "data": {
      "text/plain": [
       "array([[14., 14., 14., ..., 45., 45., 45.],\n",
       "       [14., 14., 14., ..., 45., 45., 45.],\n",
       "       [14., 14., 14., ..., 45., 45., 45.],\n",
       "       ...,\n",
       "       [33., 33., 33., ..., 34., 34., 34.],\n",
       "       [33., 33., 33., ..., 34., 34., 34.],\n",
       "       [33., 33., 33., ..., 34., 34., 34.]])"
      ]
     },
     "execution_count": 14,
     "metadata": {},
     "output_type": "execute_result"
    }
   ],
   "source": [
    "region_mask = group_mask * dup_mask\n",
    "region_mask"
   ]
  },
  {
   "cell_type": "code",
   "execution_count": 15,
   "metadata": {},
   "outputs": [
    {
     "data": {
      "text/plain": [
       "array([[14., 14., 14., ..., 45., 45., 45.],\n",
       "       [14., nan, nan, ..., nan, nan, 45.],\n",
       "       [14., nan, nan, ..., nan, nan, 45.],\n",
       "       ...,\n",
       "       [33., nan, nan, ..., nan, nan, 34.],\n",
       "       [33., nan, nan, ..., nan, nan, 34.],\n",
       "       [33., 33., 33., ..., 34., 34., 34.]])"
      ]
     },
     "execution_count": 15,
     "metadata": {},
     "output_type": "execute_result"
    }
   ],
   "source": [
    "boundary = np.ones_like(region_mask)\n",
    "boundary[1:-1, 1:-1] = np.nan\n",
    "boundary_mask = boundary * region_mask\n",
    "boundary_mask"
   ]
  },
  {
   "cell_type": "code",
   "execution_count": 16,
   "metadata": {},
   "outputs": [
    {
     "name": "stdout",
     "output_type": "stream",
     "text": [
      "3840\n",
      "131, 147\n"
     ]
    }
   ],
   "source": [
    "max_area = 0\n",
    "for i, p in enumerate(p_list):\n",
    "    if i in boundary_mask:\n",
    "        continue\n",
    "    else:\n",
    "        area = len(region_mask[region_mask == i])\n",
    "        if area > max_area:\n",
    "            max_area = area\n",
    "            max_p = p\n",
    "print(max_area)\n",
    "print(max_p)"
   ]
  },
  {
   "cell_type": "code",
   "execution_count": null,
   "metadata": {},
   "outputs": [],
   "source": []
  }
 ],
 "metadata": {
  "kernelspec": {
   "display_name": "Python 3",
   "language": "python",
   "name": "python3"
  },
  "language_info": {
   "codemirror_mode": {
    "name": "ipython",
    "version": 3
   },
   "file_extension": ".py",
   "mimetype": "text/x-python",
   "name": "python",
   "nbconvert_exporter": "python",
   "pygments_lexer": "ipython3",
   "version": "3.7.1"
  }
 },
 "nbformat": 4,
 "nbformat_minor": 2
}
